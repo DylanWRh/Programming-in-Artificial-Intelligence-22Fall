{
 "cells": [
  {
   "cell_type": "code",
   "execution_count": 1,
   "metadata": {},
   "outputs": [],
   "source": [
    "def main_1():\n",
    "    s = input().split(',')\n",
    "    for i in s:\n",
    "        if not (6 <= len(i) <= 12):\n",
    "            continue\n",
    "        flag = [0] * 4\n",
    "        for t in i:\n",
    "            if 'a' <= t <= 'z':\n",
    "                flag[0] = 1\n",
    "            elif 'A' <= t <= 'Z':\n",
    "                flag[1] = 1\n",
    "            elif '0' <= t <= '9':\n",
    "                flag[2] = 1\n",
    "            elif t in '$@#':\n",
    "                flag[3] = 1\n",
    "        if sum(flag) == 4:\n",
    "            print(i)"
   ]
  },
  {
   "cell_type": "code",
   "execution_count": 2,
   "metadata": {},
   "outputs": [
    {
     "name": "stdout",
     "output_type": "stream",
     "text": [
      "ABd1234@1\n"
     ]
    }
   ],
   "source": [
    "main_1()"
   ]
  },
  {
   "cell_type": "code",
   "execution_count": 3,
   "metadata": {},
   "outputs": [],
   "source": [
    "def main_2():\n",
    "    n = int(input())\n",
    "    if n == 1:\n",
    "        print('1 = 1')\n",
    "        return\n",
    "    print(f'{n} = ', end='')\n",
    "    i = 2\n",
    "    while n > 1:\n",
    "        if n % i == 0:\n",
    "            n = n // i\n",
    "            print(i if n==1 else f'{i} * ', end='')\n",
    "            i -= 1\n",
    "        i += 1"
   ]
  },
  {
   "cell_type": "code",
   "execution_count": 4,
   "metadata": {},
   "outputs": [
    {
     "name": "stdout",
     "output_type": "stream",
     "text": [
      "90 = 2 * 3 * 3 * 5"
     ]
    }
   ],
   "source": [
    "main_2()"
   ]
  },
  {
   "cell_type": "code",
   "execution_count": 5,
   "metadata": {},
   "outputs": [],
   "source": [
    "def main_3():\n",
    "    [numBottles, numExchange] = [int(i[i.rfind('=')+1:]) for i in input().split('；')]\n",
    "    def calc(nB, nE, rest):\n",
    "        if nE == 1 and nB != 0:\n",
    "            return 'infty'\n",
    "        return nB + (calc((nB+rest)//nE, nE, (nB+rest)%nE) if nB+rest>=nE else 0)\n",
    "    print(calc(numBottles, numExchange, 0))"
   ]
  },
  {
   "cell_type": "code",
   "execution_count": 6,
   "metadata": {},
   "outputs": [
    {
     "name": "stdout",
     "output_type": "stream",
     "text": [
      "13\n"
     ]
    }
   ],
   "source": [
    "main_3()"
   ]
  },
  {
   "cell_type": "code",
   "execution_count": 7,
   "metadata": {},
   "outputs": [],
   "source": [
    "def main_4():\n",
    "    s = input()\n",
    "    matrix = eval(s[s.rfind('=')+1:])\n",
    "    def rotate(mat):\n",
    "        H, W = len(mat), len(mat[0])\n",
    "        return [[mat[i][W-j-1] for i in range(H)] for j in range(W)]\n",
    "    def calc(mat):\n",
    "        return mat[0]+calc(rotate(mat[1:])) if len(mat)-1 else mat[0]\n",
    "    print(calc(matrix))"
   ]
  },
  {
   "cell_type": "code",
   "execution_count": 8,
   "metadata": {},
   "outputs": [
    {
     "name": "stdout",
     "output_type": "stream",
     "text": [
      "[1, 2, 3, 6, 9, 8, 7, 4, 5]\n"
     ]
    }
   ],
   "source": [
    "main_4()"
   ]
  },
  {
   "cell_type": "code",
   "execution_count": 9,
   "metadata": {},
   "outputs": [],
   "source": [
    "def main_5():\n",
    "    s = eval(input())\n",
    "    minp, maxp = float('inf'), float('-inf')\n",
    "    maxval = 0\n",
    "    for i in s:\n",
    "        if i < minp:\n",
    "            maxp = minp = i\n",
    "        if i > maxp:\n",
    "            maxp = i\n",
    "            maxval = max(maxval, maxp-minp)\n",
    "    print(maxval)"
   ]
  },
  {
   "cell_type": "code",
   "execution_count": 10,
   "metadata": {},
   "outputs": [
    {
     "name": "stdout",
     "output_type": "stream",
     "text": [
      "5\n"
     ]
    }
   ],
   "source": [
    "main_5()"
   ]
  }
 ],
 "metadata": {
  "kernelspec": {
   "display_name": "Python 3.9.12 ('base')",
   "language": "python",
   "name": "python3"
  },
  "language_info": {
   "codemirror_mode": {
    "name": "ipython",
    "version": 3
   },
   "file_extension": ".py",
   "mimetype": "text/x-python",
   "name": "python",
   "nbconvert_exporter": "python",
   "pygments_lexer": "ipython3",
   "version": "3.9.12"
  },
  "orig_nbformat": 4,
  "vscode": {
   "interpreter": {
    "hash": "f8b40d688a12481f01eadf7380c47edd8a49484a47dba3db091451640e880c68"
   }
  }
 },
 "nbformat": 4,
 "nbformat_minor": 2
}
